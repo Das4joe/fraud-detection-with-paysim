{
 "cells": [
  {
   "cell_type": "code",
   "execution_count": 1,
   "id": "ef9a7f91-03be-4e90-b72b-b12ee58d3fc5",
   "metadata": {},
   "outputs": [],
   "source": [
    "import pandas as pd\n",
    "import seaborn as sns\n",
    "import matplotlib.pyplot as plt\n",
    "from sklearn.preprocessing import LabelEncoder, MinMaxScaler\n",
    "from sklearn.model_selection import train_test_split"
   ]
  },
  {
   "cell_type": "code",
   "execution_count": 2,
   "id": "e28530e3-a837-4649-9c6e-599a122dd18a",
   "metadata": {},
   "outputs": [],
   "source": [
    "# Load the dataset\n",
    "data_path = r\"C:\\Users\\fdasb\\PaySim Data\\PaySim synthetic dataset.csv\"\n",
    "df = pd.read_csv(data_path)\n",
    "\n",
    "# Encode 'type' as numerical\n",
    "label_encoder = LabelEncoder()\n",
    "df['type_encoded'] = label_encoder.fit_transform(df['type'])\n",
    "\n",
    "# Drop unnecessary colums\n",
    "df_cleaned = df.drop(['nameOrig', 'nameDest', 'type'], axis=1)\n",
    "\n",
    "# Define features and target\n",
    "x = df_cleaned.drop(['isFraud', 'isFlaggedFraud'], axis=1)\n",
    "y = df_cleaned['isFraud']\n",
    "\n",
    "# Scake features\n",
    "scaler = MinMaxScaler()\n",
    "x_scaled = scaler.fit_transform(x)\n",
    "\n",
    "# Split data\n",
    "x_train, x_test, y_trin, y_test = train_test_split(x_scaled, y, test_size=0.2, random_state=42)"
   ]
  }
 ],
 "metadata": {
  "kernelspec": {
   "display_name": "Python 3 (ipykernel)",
   "language": "python",
   "name": "python3"
  },
  "language_info": {
   "codemirror_mode": {
    "name": "ipython",
    "version": 3
   },
   "file_extension": ".py",
   "mimetype": "text/x-python",
   "name": "python",
   "nbconvert_exporter": "python",
   "pygments_lexer": "ipython3",
   "version": "3.11.7"
  }
 },
 "nbformat": 4,
 "nbformat_minor": 5
}
